{
 "cells": [
  {
   "cell_type": "code",
   "execution_count": null,
   "metadata": {},
   "outputs": [],
   "source": [
    "#Dump into Mort Tables Parquet\n",
    "\n",
    "import pandas as pd\n",
    "import pyarrow as pa\n",
    "import os\n",
    "\n",
    "cwd = os.getcwd()\n",
    "\n",
    "mort_tables = pd.read_csv(cwd + '/Annuity_Factor_Calculator/MortTables/MortTables.csv')\n",
    "mort_tables.to_parquet(cwd + '/Annuity_Factor_Calculator/MortTables/MortTables.parquet', index=False)"
   ]
  },
  {
   "cell_type": "code",
   "execution_count": 8,
   "metadata": {},
   "outputs": [],
   "source": [
    "#Calculator Inputs\n",
    "\n",
    "import json\n",
    "import os\n",
    "cwd = os.getcwd()\n",
    "\n",
    "InputSet = {\n",
    "    'DiscountRate':.05 #0-1\n",
    "#    , 'AnnualCOLA': #0-1\n",
    "    , 'AnnuityType':'SLA' # SLA, J&S, C&L, JL \n",
    "#    , 'SurvivorBenefitPrct': 0-1\n",
    "    , 'PaymentFrequency':'ABOY'  #ABOY\n",
    "#    , 'CertainPeriod(years)': #0-15\n",
    "    , 'BenefitCommencementAge':65 #50-120\n",
    "    , 'PrimaryAnnuitantAge':45 #20-120\n",
    "    , 'PrimaryAnnuitantGender':\"M\" #M, F\n",
    "#    , 'BeneficiaryAge': #20-120\n",
    "#    , 'BeneficiaryGender': #M, F\n",
    "#    , 'ValuationYear': #1990-2030\n",
    "    , 'MortalityBeforeBCA':\"Pri2012_Total_Employee\" #Pri2012_Total_Employee\n",
    "    , 'MortalityAfterBCA':\"Pri2012_Total_Retiree\" #Pri2012_Total_Retiree\n",
    "#    , 'ProjectionMethod': #None, Static, Generational\n",
    "#    , 'ProjectionScale': #\n",
    "#    , 'StaticProjectionYears': #0-50\n",
    "#    , 'BlendMortalityRates': #TRUE, FALSE\n",
    "#    , 'BlendingMalePercentage': #0-2\n",
    "#    , 'SetbackYearsMale': #-10->10\n",
    "#    , 'SetbackYearsFemale':#-10->10\n",
    "}\n",
    "\n",
    "with open(cwd+'/userInputs.txt', 'w') as UserInputs:\n",
    "    UserInputs.write(json.dumps(InputSet))"
   ]
  }
 ],
 "metadata": {
  "kernelspec": {
   "display_name": ".venv",
   "language": "python",
   "name": "python3"
  },
  "language_info": {
   "codemirror_mode": {
    "name": "ipython",
    "version": 3
   },
   "file_extension": ".py",
   "mimetype": "text/x-python",
   "name": "python",
   "nbconvert_exporter": "python",
   "pygments_lexer": "ipython3",
   "version": "3.12.3"
  }
 },
 "nbformat": 4,
 "nbformat_minor": 2
}
